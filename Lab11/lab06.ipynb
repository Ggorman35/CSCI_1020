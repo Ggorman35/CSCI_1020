{
  "nbformat": 4,
  "nbformat_minor": 0,
  "metadata": {
    "colab": {
      "provenance": []
    },
    "kernelspec": {
      "name": "python3",
      "display_name": "Python 3"
    },
    "language_info": {
      "name": "python"
    }
  },
  "cells": [
    {
      "cell_type": "code",
      "execution_count": null,
      "metadata": {
        "id": "nGZaeFIungAe"
      },
      "outputs": [],
      "source": [
        "!pip install gradio"
      ]
    },
    {
      "cell_type": "code",
      "source": [
        "import gradio as gr"
      ],
      "metadata": {
        "id": "chph_vRMqVhh"
      },
      "execution_count": 3,
      "outputs": []
    },
    {
      "cell_type": "code",
      "source": [
        "gr"
      ],
      "metadata": {
        "colab": {
          "base_uri": "https://localhost:8080/"
        },
        "id": "2KIYfKIkqY3z",
        "outputId": "bf25c135-df23-41ce-e4e6-0eb017c4a6b4"
      },
      "execution_count": 4,
      "outputs": [
        {
          "output_type": "execute_result",
          "data": {
            "text/plain": [
              "<module 'gradio' from '/usr/local/lib/python3.8/dist-packages/gradio/__init__.py'>"
            ]
          },
          "metadata": {},
          "execution_count": 4
        }
      ]
    },
    {
      "cell_type": "code",
      "source": [
        "gr.__version__"
      ],
      "metadata": {
        "colab": {
          "base_uri": "https://localhost:8080/",
          "height": 36
        },
        "id": "4abgtq6Bqngd",
        "outputId": "d89fbf65-e33a-4961-b175-0ecab917b769"
      },
      "execution_count": 5,
      "outputs": [
        {
          "output_type": "execute_result",
          "data": {
            "text/plain": [
              "'3.19.1'"
            ],
            "application/vnd.google.colaboratory.intrinsic+json": {
              "type": "string"
            }
          },
          "metadata": {},
          "execution_count": 5
        }
      ]
    },
    {
      "cell_type": "code",
      "source": [
        "input_component = gr.inputs.Textbox()"
      ],
      "metadata": {
        "id": "8zwU3MLVqt07"
      },
      "execution_count": null,
      "outputs": []
    },
    {
      "cell_type": "code",
      "source": [
        "output_component = gr.outputs.Textbox()"
      ],
      "metadata": {
        "id": "MYo_JOSZrHFs"
      },
      "execution_count": null,
      "outputs": []
    },
    {
      "cell_type": "code",
      "source": [
        "def process(sequence):\n",
        "  new_seq = sequence.replace('A','T')\n",
        "  return new_seq"
      ],
      "metadata": {
        "id": "3ROawfAdrVUB"
      },
      "execution_count": 8,
      "outputs": []
    },
    {
      "cell_type": "code",
      "source": [
        "#3\n",
        "gr.Interface(fn=process, inputs=input_component, outputs=output_component).launch()"
      ],
      "metadata": {
        "id": "0QfX-VW8rt16"
      },
      "execution_count": null,
      "outputs": []
    },
    {
      "cell_type": "code",
      "source": [
        "#4\n",
        "examples = [[\"ATCGGCT\"],[\"ATGATCTTGT\"]]\n",
        "gr.Interface(fn=process, inputs=input_component, outputs=output_component, examples = examples).launch()"
      ],
      "metadata": {
        "id": "H3RkKa4xn6iU"
      },
      "execution_count": null,
      "outputs": []
    },
    {
      "cell_type": "code",
      "source": [],
      "metadata": {
        "id": "TvPfAXMIn627"
      },
      "execution_count": null,
      "outputs": []
    },
    {
      "cell_type": "code",
      "source": [
        "def caption(image):\n",
        "  return \"Image is processed!!\""
      ],
      "metadata": {
        "id": "F2o2enWRn7ak"
      },
      "execution_count": 33,
      "outputs": []
    },
    {
      "cell_type": "code",
      "source": [
        "#5\n",
        "import gradio as gr\n",
        "input_module = gr.inputs.Image(label = \"Input Image\")\n",
        "output_module = gr.outputs.Textbox(label = \"Output Text\")\n",
        "gr.Interface(fn=caption, inputs=input_module, outputs=output_module).launch()"
      ],
      "metadata": {
        "id": "TIqL8Dqln7Vn"
      },
      "execution_count": null,
      "outputs": []
    },
    {
      "cell_type": "code",
      "source": [
        "# Step 6.1: Define different input components\n",
        "import gradio as gr\n",
        "\n",
        "# a. define text data type\n",
        "input_module1 = gr.inputs.Textbox(label = \"Input Text\")\n",
        "\n",
        "# b. define image data type\n",
        "input_module2 = gr.inputs.Image(label = \"Input Image\")\n",
        "\n",
        "# c. define Number data type\n",
        "input_module3 = gr.inputs.Number(label = \"Input Number\")\n",
        "\n",
        "# d. define Slider data type\n",
        "input_module4 = gr.inputs.Slider(2, 50, step=2, label = \"Input Slider\")\n",
        "\n",
        "# e. define Checkbox data type\n",
        "input_module5 = gr.inputs.Checkbox(label = \"Does it work?\")\n",
        "\n",
        "# f. define Radio data type\n",
        "input_module6 = gr.inputs.Radio(choices=[\"A\", \"C\", \"G\",\"T\"], label = \"Input Radio\")\n",
        "\n",
        "# g. define Dropdown data type\n",
        "input_module7 = gr.inputs.Dropdown(choices=[\"A\", \"C\", \"G\", \"T\"], label = \"Input Dropdown\")"
      ],
      "metadata": {
        "id": "f2ygWjhor7xk"
      },
      "execution_count": null,
      "outputs": []
    },
    {
      "cell_type": "code",
      "source": [
        "# Step 6.2: Define different output components\n",
        "# a. define text data type\n",
        "output_module1 = gr.outputs.Textbox(label = \"Output Text\")\n",
        "\n",
        "# b. define image data type\n",
        "output_module2 = gr.outputs.Image(type = \"pil\")\n",
        "\n",
        "# you can define more output components"
      ],
      "metadata": {
        "colab": {
          "base_uri": "https://localhost:8080/"
        },
        "id": "2GHm1sKpuQBP",
        "outputId": "4f082d27-5a0e-403c-fb18-60d429cff59b"
      },
      "execution_count": 36,
      "outputs": [
        {
          "output_type": "stream",
          "name": "stderr",
          "text": [
            "/usr/local/lib/python3.8/dist-packages/gradio/outputs.py:22: UserWarning: Usage of gradio.outputs is deprecated, and will not be supported in the future, please import your components from gradio.components\n",
            "  warnings.warn(\n",
            "/usr/local/lib/python3.8/dist-packages/gradio/outputs.py:43: UserWarning: Usage of gradio.outputs is deprecated, and will not be supported in the future, please import your components from gradio.components\n",
            "  warnings.warn(\n"
          ]
        }
      ]
    },
    {
      "cell_type": "code",
      "source": [
        "# Step 6.3: Define a new function that accommodates the input modules.\n",
        "def multi_inputs(input1, input2, input3, input4, input5, input6, input7 ):\n",
        "    import numpy as np\n",
        "    ## processing inputs\n",
        "\n",
        "    ## return outputs\n",
        "    output1 = \"Processing inputs and return outputs\" # text output example\n",
        "    output2 = np.random.rand(10,10) # image-like array output example\n",
        "    return output1,output2"
      ],
      "metadata": {
        "id": "SDKrErDLuRsu"
      },
      "execution_count": 37,
      "outputs": []
    },
    {
      "cell_type": "code",
      "source": [
        "# Step 6.4: Put all three component together into the gradio's interface function \n",
        "gr.Interface(fn=multi_inputs, \n",
        "             inputs=[input_module1, input_module2, input_module3,\n",
        "                     input_module4, input_module5, input_module6,\n",
        "                     input_module7], \n",
        "             outputs=[output_module1, output_module2]\n",
        "            ).launch()"
      ],
      "metadata": {
        "id": "mwG0GVR5uTwJ"
      },
      "execution_count": null,
      "outputs": []
    },
    {
      "cell_type": "code",
      "source": [
        "def count_content(sequence):\n",
        "  total_count = len(sequence)\n",
        "  countA = 0\n",
        "  countC = 0\n",
        "  countG = 0\n",
        "  countT = 0\n",
        "  for x in sequence:\n",
        "    if x == 'A':\n",
        "      countA += 1\n",
        "    elif x == 'C':\n",
        "      countC += 1\n",
        "    elif x == 'G':\n",
        "      countG += 1\n",
        "    else:\n",
        "      countT += 1\n",
        "  GC_content = ((countC+countG)*100/len(sequence))\n",
        "  return total_count,countA, countC, countG, countT, GC_content"
      ],
      "metadata": {
        "id": "bbfdwW1PZupk"
      },
      "execution_count": 22,
      "outputs": []
    },
    {
      "cell_type": "code",
      "source": [
        "import gradio as gr\n",
        "\n",
        "input_module = gr.inputs.Textbox(label = \"Input DNA Sequence\")\n",
        "output_module1 = gr.outputs.Textbox(label = \"Total Count\")\n",
        "output_module2 = gr.outputs.Textbox(label = \"Ademine(A) count\")\n",
        "output_module3 = gr.outputs.Textbox(label = \"Thymine(T) count\")\n",
        "output_module4 = gr.outputs.Textbox(label = \"Guanine(G) count\")\n",
        "output_module5 = gr.outputs.Textbox(label = \"Cytosine(C) count\")\n",
        "output_module6 = gr.outputs.Textbox(label = \"%GC content\")"
      ],
      "metadata": {
        "id": "s18MUD7BuVev",
        "colab": {
          "base_uri": "https://localhost:8080/"
        },
        "outputId": "13c21910-b6e9-4947-fe19-bbd7a13637ca"
      },
      "execution_count": 23,
      "outputs": [
        {
          "output_type": "stream",
          "name": "stderr",
          "text": [
            "/usr/local/lib/python3.8/dist-packages/gradio/inputs.py:27: UserWarning: Usage of gradio.inputs is deprecated, and will not be supported in the future, please import your component from gradio.components\n",
            "  warnings.warn(\n",
            "/usr/local/lib/python3.8/dist-packages/gradio/deprecation.py:40: UserWarning: `optional` parameter is deprecated, and it has no effect\n",
            "  warnings.warn(value)\n",
            "/usr/local/lib/python3.8/dist-packages/gradio/deprecation.py:40: UserWarning: `numeric` parameter is deprecated, and it has no effect\n",
            "  warnings.warn(value)\n",
            "/usr/local/lib/python3.8/dist-packages/gradio/outputs.py:22: UserWarning: Usage of gradio.outputs is deprecated, and will not be supported in the future, please import your components from gradio.components\n",
            "  warnings.warn(\n"
          ]
        }
      ]
    },
    {
      "cell_type": "code",
      "source": [
        "gr.Interface(fn=count_content, inputs=input_component, outputs=[output_module1,output_module2,output_module3,output_module4,output_module5,output_module6]).launch()"
      ],
      "metadata": {
        "id": "5dvybEVHdMLk"
      },
      "execution_count": null,
      "outputs": []
    },
    {
      "cell_type": "code",
      "source": [],
      "metadata": {
        "id": "sOIdRObt7Oks"
      },
      "execution_count": null,
      "outputs": []
    }
  ]
}